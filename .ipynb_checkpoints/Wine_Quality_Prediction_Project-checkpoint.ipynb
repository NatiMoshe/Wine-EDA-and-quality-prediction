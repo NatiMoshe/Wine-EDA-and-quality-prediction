{
 "cells": [
  {
   "cell_type": "code",
   "execution_count": 1,
   "metadata": {},
   "outputs": [],
   "source": [
    "#!/usr/bin/env python\n",
    "# coding: utf-8\n",
    "\n",
    "# In[1]:\n",
    "\n",
    "\n",
    "import pandas\n",
    "import numpy\n",
    "import os\n",
    "import matplotlib.pyplot as plot\n",
    "import seaborn\n",
    "from sklearn.model_selection import train_test_split\n",
    "from sklearn.preprocessing import MinMaxScaler\n",
    "from sklearn.ensemble import RandomForestClassifier\n",
    "from sklearn.metrics import classification_report\n",
    "from sklearn.metrics import mean_squared_error\n"
   ]
  },
  {
   "cell_type": "markdown",
   "metadata": {},
   "source": [
    "### Load Dataset"
   ]
  },
  {
   "cell_type": "code",
   "execution_count": 2,
   "metadata": {},
   "outputs": [],
   "source": [
    "def load_csv(file_name):\n",
    "    return pandas.read_csv(file_name)"
   ]
  },
  {
   "cell_type": "code",
   "execution_count": 3,
   "metadata": {},
   "outputs": [
    {
     "data": {
      "text/html": [
       "<div>\n",
       "<style scoped>\n",
       "    .dataframe tbody tr th:only-of-type {\n",
       "        vertical-align: middle;\n",
       "    }\n",
       "\n",
       "    .dataframe tbody tr th {\n",
       "        vertical-align: top;\n",
       "    }\n",
       "\n",
       "    .dataframe thead th {\n",
       "        text-align: right;\n",
       "    }\n",
       "</style>\n",
       "<table border=\"1\" class=\"dataframe\">\n",
       "  <thead>\n",
       "    <tr style=\"text-align: right;\">\n",
       "      <th></th>\n",
       "      <th>type</th>\n",
       "      <th>fixed acidity</th>\n",
       "      <th>volatile_acidity</th>\n",
       "      <th>citric_acid</th>\n",
       "      <th>residual sugar</th>\n",
       "      <th>chlorides</th>\n",
       "      <th>free sulfur dioxide</th>\n",
       "      <th>total sulfur dioxide</th>\n",
       "      <th>density</th>\n",
       "      <th>pH</th>\n",
       "      <th>sulphates</th>\n",
       "      <th>alcohol</th>\n",
       "      <th>quality</th>\n",
       "    </tr>\n",
       "  </thead>\n",
       "  <tbody>\n",
       "    <tr>\n",
       "      <th>0</th>\n",
       "      <td>white</td>\n",
       "      <td>6.0</td>\n",
       "      <td>0.21</td>\n",
       "      <td>0.38</td>\n",
       "      <td>0.8</td>\n",
       "      <td>0.020</td>\n",
       "      <td>22.0</td>\n",
       "      <td>98.0</td>\n",
       "      <td>0.98941</td>\n",
       "      <td>3.26</td>\n",
       "      <td>0.32</td>\n",
       "      <td>11.8</td>\n",
       "      <td>6</td>\n",
       "    </tr>\n",
       "    <tr>\n",
       "      <th>1</th>\n",
       "      <td>white</td>\n",
       "      <td>5.5</td>\n",
       "      <td>0.29</td>\n",
       "      <td>0.30</td>\n",
       "      <td>1.1</td>\n",
       "      <td>0.022</td>\n",
       "      <td>20.0</td>\n",
       "      <td>110.0</td>\n",
       "      <td>0.98869</td>\n",
       "      <td>3.34</td>\n",
       "      <td>0.38</td>\n",
       "      <td>12.8</td>\n",
       "      <td>7</td>\n",
       "    </tr>\n",
       "    <tr>\n",
       "      <th>2</th>\n",
       "      <td>white</td>\n",
       "      <td>6.5</td>\n",
       "      <td>0.24</td>\n",
       "      <td>0.19</td>\n",
       "      <td>1.2</td>\n",
       "      <td>0.041</td>\n",
       "      <td>30.0</td>\n",
       "      <td>111.0</td>\n",
       "      <td>0.99254</td>\n",
       "      <td>2.99</td>\n",
       "      <td>0.46</td>\n",
       "      <td>9.4</td>\n",
       "      <td>6</td>\n",
       "    </tr>\n",
       "    <tr>\n",
       "      <th>3</th>\n",
       "      <td>white</td>\n",
       "      <td>6.6</td>\n",
       "      <td>0.32</td>\n",
       "      <td>0.36</td>\n",
       "      <td>8.0</td>\n",
       "      <td>0.047</td>\n",
       "      <td>57.0</td>\n",
       "      <td>168.0</td>\n",
       "      <td>0.99490</td>\n",
       "      <td>3.15</td>\n",
       "      <td>0.46</td>\n",
       "      <td>9.6</td>\n",
       "      <td>5</td>\n",
       "    </tr>\n",
       "    <tr>\n",
       "      <th>4</th>\n",
       "      <td>white</td>\n",
       "      <td>6.2</td>\n",
       "      <td>0.21</td>\n",
       "      <td>0.29</td>\n",
       "      <td>1.6</td>\n",
       "      <td>0.039</td>\n",
       "      <td>24.0</td>\n",
       "      <td>92.0</td>\n",
       "      <td>0.99114</td>\n",
       "      <td>3.27</td>\n",
       "      <td>0.50</td>\n",
       "      <td>11.2</td>\n",
       "      <td>6</td>\n",
       "    </tr>\n",
       "    <tr>\n",
       "      <th>...</th>\n",
       "      <td>...</td>\n",
       "      <td>...</td>\n",
       "      <td>...</td>\n",
       "      <td>...</td>\n",
       "      <td>...</td>\n",
       "      <td>...</td>\n",
       "      <td>...</td>\n",
       "      <td>...</td>\n",
       "      <td>...</td>\n",
       "      <td>...</td>\n",
       "      <td>...</td>\n",
       "      <td>...</td>\n",
       "      <td>...</td>\n",
       "    </tr>\n",
       "    <tr>\n",
       "      <th>12989</th>\n",
       "      <td>red</td>\n",
       "      <td>7.4</td>\n",
       "      <td>0.70</td>\n",
       "      <td>0.00</td>\n",
       "      <td>1.9</td>\n",
       "      <td>0.076</td>\n",
       "      <td>11.0</td>\n",
       "      <td>34.0</td>\n",
       "      <td>0.99780</td>\n",
       "      <td>3.51</td>\n",
       "      <td>0.56</td>\n",
       "      <td>9.4</td>\n",
       "      <td>5</td>\n",
       "    </tr>\n",
       "    <tr>\n",
       "      <th>12990</th>\n",
       "      <td>red</td>\n",
       "      <td>11.2</td>\n",
       "      <td>0.28</td>\n",
       "      <td>0.56</td>\n",
       "      <td>1.9</td>\n",
       "      <td>0.075</td>\n",
       "      <td>17.0</td>\n",
       "      <td>60.0</td>\n",
       "      <td>0.99800</td>\n",
       "      <td>3.16</td>\n",
       "      <td>0.58</td>\n",
       "      <td>9.8</td>\n",
       "      <td>6</td>\n",
       "    </tr>\n",
       "    <tr>\n",
       "      <th>12991</th>\n",
       "      <td>red</td>\n",
       "      <td>7.8</td>\n",
       "      <td>0.76</td>\n",
       "      <td>0.04</td>\n",
       "      <td>2.3</td>\n",
       "      <td>0.092</td>\n",
       "      <td>15.0</td>\n",
       "      <td>54.0</td>\n",
       "      <td>0.99700</td>\n",
       "      <td>3.26</td>\n",
       "      <td>0.65</td>\n",
       "      <td>9.8</td>\n",
       "      <td>5</td>\n",
       "    </tr>\n",
       "    <tr>\n",
       "      <th>12992</th>\n",
       "      <td>red</td>\n",
       "      <td>7.8</td>\n",
       "      <td>0.88</td>\n",
       "      <td>0.00</td>\n",
       "      <td>2.6</td>\n",
       "      <td>0.098</td>\n",
       "      <td>25.0</td>\n",
       "      <td>67.0</td>\n",
       "      <td>0.99680</td>\n",
       "      <td>3.20</td>\n",
       "      <td>0.68</td>\n",
       "      <td>9.8</td>\n",
       "      <td>5</td>\n",
       "    </tr>\n",
       "    <tr>\n",
       "      <th>12993</th>\n",
       "      <td>red</td>\n",
       "      <td>7.4</td>\n",
       "      <td>0.70</td>\n",
       "      <td>0.00</td>\n",
       "      <td>1.9</td>\n",
       "      <td>0.076</td>\n",
       "      <td>11.0</td>\n",
       "      <td>34.0</td>\n",
       "      <td>0.99780</td>\n",
       "      <td>3.51</td>\n",
       "      <td>0.56</td>\n",
       "      <td>9.4</td>\n",
       "      <td>5</td>\n",
       "    </tr>\n",
       "  </tbody>\n",
       "</table>\n",
       "<p>12994 rows × 13 columns</p>\n",
       "</div>"
      ],
      "text/plain": [
       "        type  fixed acidity  volatile_acidity  citric_acid  residual sugar  \\\n",
       "0      white            6.0              0.21         0.38             0.8   \n",
       "1      white            5.5              0.29         0.30             1.1   \n",
       "2      white            6.5              0.24         0.19             1.2   \n",
       "3      white            6.6              0.32         0.36             8.0   \n",
       "4      white            6.2              0.21         0.29             1.6   \n",
       "...      ...            ...               ...          ...             ...   \n",
       "12989    red            7.4              0.70         0.00             1.9   \n",
       "12990    red           11.2              0.28         0.56             1.9   \n",
       "12991    red            7.8              0.76         0.04             2.3   \n",
       "12992    red            7.8              0.88         0.00             2.6   \n",
       "12993    red            7.4              0.70         0.00             1.9   \n",
       "\n",
       "       chlorides  free sulfur dioxide  total sulfur dioxide  density    pH  \\\n",
       "0          0.020                 22.0                  98.0  0.98941  3.26   \n",
       "1          0.022                 20.0                 110.0  0.98869  3.34   \n",
       "2          0.041                 30.0                 111.0  0.99254  2.99   \n",
       "3          0.047                 57.0                 168.0  0.99490  3.15   \n",
       "4          0.039                 24.0                  92.0  0.99114  3.27   \n",
       "...          ...                  ...                   ...      ...   ...   \n",
       "12989      0.076                 11.0                  34.0  0.99780  3.51   \n",
       "12990      0.075                 17.0                  60.0  0.99800  3.16   \n",
       "12991      0.092                 15.0                  54.0  0.99700  3.26   \n",
       "12992      0.098                 25.0                  67.0  0.99680  3.20   \n",
       "12993      0.076                 11.0                  34.0  0.99780  3.51   \n",
       "\n",
       "       sulphates  alcohol  quality  \n",
       "0           0.32     11.8        6  \n",
       "1           0.38     12.8        7  \n",
       "2           0.46      9.4        6  \n",
       "3           0.46      9.6        5  \n",
       "4           0.50     11.2        6  \n",
       "...          ...      ...      ...  \n",
       "12989       0.56      9.4        5  \n",
       "12990       0.58      9.8        6  \n",
       "12991       0.65      9.8        5  \n",
       "12992       0.68      9.8        5  \n",
       "12993       0.56      9.4        5  \n",
       "\n",
       "[12994 rows x 13 columns]"
      ]
     },
     "execution_count": 3,
     "metadata": {},
     "output_type": "execute_result"
    }
   ],
   "source": [
    "file_name = 'data' + os.sep + 'WineQualityMix.csv'\n",
    "data_frame = load_csv(file_name)\n",
    "data_frame"
   ]
  },
  {
   "cell_type": "code",
   "execution_count": 4,
   "metadata": {},
   "outputs": [
    {
     "name": "stdout",
     "output_type": "stream",
     "text": [
      "<class 'pandas.core.frame.DataFrame'>\n",
      "RangeIndex: 12994 entries, 0 to 12993\n",
      "Data columns (total 13 columns):\n",
      " #   Column                Non-Null Count  Dtype  \n",
      "---  ------                --------------  -----  \n",
      " 0   type                  12994 non-null  object \n",
      " 1   fixed acidity         12984 non-null  float64\n",
      " 2   volatile_acidity      12986 non-null  float64\n",
      " 3   citric_acid           12991 non-null  float64\n",
      " 4   residual sugar        12992 non-null  float64\n",
      " 5   chlorides             12992 non-null  float64\n",
      " 6   free sulfur dioxide   12994 non-null  float64\n",
      " 7   total sulfur dioxide  12994 non-null  float64\n",
      " 8   density               12994 non-null  float64\n",
      " 9   pH                    12985 non-null  float64\n",
      " 10  sulphates             12990 non-null  float64\n",
      " 11  alcohol               12994 non-null  float64\n",
      " 12  quality               12994 non-null  int64  \n",
      "dtypes: float64(11), int64(1), object(1)\n",
      "memory usage: 1.3+ MB\n",
      "None\n",
      "------------------------------------\n"
     ]
    }
   ],
   "source": [
    "print(data_frame.info())\n",
    "print('------------------------------------')"
   ]
  },
  {
   "cell_type": "code",
   "execution_count": 5,
   "metadata": {},
   "outputs": [
    {
     "name": "stdout",
     "output_type": "stream",
     "text": [
      "       fixed acidity  volatile_acidity   citric_acid  residual sugar  \\\n",
      "count   12984.000000      12986.000000  12991.000000    12992.000000   \n",
      "mean        7.215943          0.339678      0.318678        5.443781   \n",
      "std         1.296542          0.164636      0.145286        4.757781   \n",
      "min         3.800000          0.080000      0.000000        0.600000   \n",
      "25%         6.400000          0.230000      0.250000        1.800000   \n",
      "50%         7.000000          0.290000      0.310000        3.000000   \n",
      "75%         7.700000          0.400000      0.390000        8.100000   \n",
      "max        15.900000          1.580000      1.660000       65.800000   \n",
      "\n",
      "          chlorides  free sulfur dioxide  total sulfur dioxide       density  \\\n",
      "count  12992.000000         12994.000000          12994.000000  12994.000000   \n",
      "mean       0.056038            30.525319            115.744574      0.994697   \n",
      "std        0.035033            17.748717             56.519679      0.002999   \n",
      "min        0.009000             1.000000              6.000000      0.987110   \n",
      "25%        0.038000            17.000000             77.000000      0.992340   \n",
      "50%        0.047000            29.000000            118.000000      0.994890   \n",
      "75%        0.065000            41.000000            156.000000      0.996990   \n",
      "max        0.611000           289.000000            440.000000      1.038980   \n",
      "\n",
      "                 pH     sulphates       alcohol       quality  \n",
      "count  12985.000000  12990.000000  12994.000000  12994.000000  \n",
      "mean       3.218448      0.531242     10.491801      5.818378  \n",
      "std        0.160762      0.148804      1.192666      0.873222  \n",
      "min        2.720000      0.220000      8.000000      3.000000  \n",
      "25%        3.110000      0.430000      9.500000      5.000000  \n",
      "50%        3.210000      0.510000     10.300000      6.000000  \n",
      "75%        3.320000      0.600000     11.300000      6.000000  \n",
      "max        4.010000      2.000000     14.900000      9.000000  \n",
      "------------------------------------\n"
     ]
    }
   ],
   "source": [
    "print(data_frame.describe())\n",
    "print('------------------------------------')"
   ]
  },
  {
   "cell_type": "markdown",
   "metadata": {},
   "source": [
    "### Dropping unneccesery column\n",
    "\n",
    "After searching for the different types of features in the dataset it was possible to understand which columns were relevant to determain the quality of the wine and which were not."
   ]
  },
  {
   "cell_type": "code",
   "execution_count": 6,
   "metadata": {},
   "outputs": [],
   "source": [
    "def drop_col(df, col):\n",
    "    list_col = df.columns\n",
    "    df.drop(col, axis  =1, inplace= True)"
   ]
  },
  {
   "cell_type": "code",
   "execution_count": 7,
   "metadata": {},
   "outputs": [],
   "source": [
    "col = ['fixed acidity','residual sugar','chlorides','free sulfur dioxide','total sulfur dioxide','density','sulphates']\n",
    "drop_col(data_frame, col)"
   ]
  },
  {
   "cell_type": "code",
   "execution_count": 8,
   "metadata": {},
   "outputs": [
    {
     "data": {
      "text/html": [
       "<div>\n",
       "<style scoped>\n",
       "    .dataframe tbody tr th:only-of-type {\n",
       "        vertical-align: middle;\n",
       "    }\n",
       "\n",
       "    .dataframe tbody tr th {\n",
       "        vertical-align: top;\n",
       "    }\n",
       "\n",
       "    .dataframe thead th {\n",
       "        text-align: right;\n",
       "    }\n",
       "</style>\n",
       "<table border=\"1\" class=\"dataframe\">\n",
       "  <thead>\n",
       "    <tr style=\"text-align: right;\">\n",
       "      <th></th>\n",
       "      <th>type</th>\n",
       "      <th>volatile_acidity</th>\n",
       "      <th>citric_acid</th>\n",
       "      <th>pH</th>\n",
       "      <th>alcohol</th>\n",
       "      <th>quality</th>\n",
       "    </tr>\n",
       "  </thead>\n",
       "  <tbody>\n",
       "    <tr>\n",
       "      <th>0</th>\n",
       "      <td>white</td>\n",
       "      <td>0.21</td>\n",
       "      <td>0.38</td>\n",
       "      <td>3.26</td>\n",
       "      <td>11.8</td>\n",
       "      <td>6</td>\n",
       "    </tr>\n",
       "    <tr>\n",
       "      <th>1</th>\n",
       "      <td>white</td>\n",
       "      <td>0.29</td>\n",
       "      <td>0.30</td>\n",
       "      <td>3.34</td>\n",
       "      <td>12.8</td>\n",
       "      <td>7</td>\n",
       "    </tr>\n",
       "    <tr>\n",
       "      <th>2</th>\n",
       "      <td>white</td>\n",
       "      <td>0.24</td>\n",
       "      <td>0.19</td>\n",
       "      <td>2.99</td>\n",
       "      <td>9.4</td>\n",
       "      <td>6</td>\n",
       "    </tr>\n",
       "    <tr>\n",
       "      <th>3</th>\n",
       "      <td>white</td>\n",
       "      <td>0.32</td>\n",
       "      <td>0.36</td>\n",
       "      <td>3.15</td>\n",
       "      <td>9.6</td>\n",
       "      <td>5</td>\n",
       "    </tr>\n",
       "    <tr>\n",
       "      <th>4</th>\n",
       "      <td>white</td>\n",
       "      <td>0.21</td>\n",
       "      <td>0.29</td>\n",
       "      <td>3.27</td>\n",
       "      <td>11.2</td>\n",
       "      <td>6</td>\n",
       "    </tr>\n",
       "    <tr>\n",
       "      <th>...</th>\n",
       "      <td>...</td>\n",
       "      <td>...</td>\n",
       "      <td>...</td>\n",
       "      <td>...</td>\n",
       "      <td>...</td>\n",
       "      <td>...</td>\n",
       "    </tr>\n",
       "    <tr>\n",
       "      <th>12989</th>\n",
       "      <td>red</td>\n",
       "      <td>0.70</td>\n",
       "      <td>0.00</td>\n",
       "      <td>3.51</td>\n",
       "      <td>9.4</td>\n",
       "      <td>5</td>\n",
       "    </tr>\n",
       "    <tr>\n",
       "      <th>12990</th>\n",
       "      <td>red</td>\n",
       "      <td>0.28</td>\n",
       "      <td>0.56</td>\n",
       "      <td>3.16</td>\n",
       "      <td>9.8</td>\n",
       "      <td>6</td>\n",
       "    </tr>\n",
       "    <tr>\n",
       "      <th>12991</th>\n",
       "      <td>red</td>\n",
       "      <td>0.76</td>\n",
       "      <td>0.04</td>\n",
       "      <td>3.26</td>\n",
       "      <td>9.8</td>\n",
       "      <td>5</td>\n",
       "    </tr>\n",
       "    <tr>\n",
       "      <th>12992</th>\n",
       "      <td>red</td>\n",
       "      <td>0.88</td>\n",
       "      <td>0.00</td>\n",
       "      <td>3.20</td>\n",
       "      <td>9.8</td>\n",
       "      <td>5</td>\n",
       "    </tr>\n",
       "    <tr>\n",
       "      <th>12993</th>\n",
       "      <td>red</td>\n",
       "      <td>0.70</td>\n",
       "      <td>0.00</td>\n",
       "      <td>3.51</td>\n",
       "      <td>9.4</td>\n",
       "      <td>5</td>\n",
       "    </tr>\n",
       "  </tbody>\n",
       "</table>\n",
       "<p>12994 rows × 6 columns</p>\n",
       "</div>"
      ],
      "text/plain": [
       "        type  volatile_acidity  citric_acid    pH  alcohol  quality\n",
       "0      white              0.21         0.38  3.26     11.8        6\n",
       "1      white              0.29         0.30  3.34     12.8        7\n",
       "2      white              0.24         0.19  2.99      9.4        6\n",
       "3      white              0.32         0.36  3.15      9.6        5\n",
       "4      white              0.21         0.29  3.27     11.2        6\n",
       "...      ...               ...          ...   ...      ...      ...\n",
       "12989    red              0.70         0.00  3.51      9.4        5\n",
       "12990    red              0.28         0.56  3.16      9.8        6\n",
       "12991    red              0.76         0.04  3.26      9.8        5\n",
       "12992    red              0.88         0.00  3.20      9.8        5\n",
       "12993    red              0.70         0.00  3.51      9.4        5\n",
       "\n",
       "[12994 rows x 6 columns]"
      ]
     },
     "execution_count": 8,
     "metadata": {},
     "output_type": "execute_result"
    }
   ],
   "source": [
    "data_frame"
   ]
  },
  {
   "cell_type": "markdown",
   "metadata": {},
   "source": [
    "### Handling Duplicates"
   ]
  },
  {
   "cell_type": "code",
   "execution_count": 9,
   "metadata": {},
   "outputs": [
    {
     "data": {
      "text/html": [
       "<div>\n",
       "<style scoped>\n",
       "    .dataframe tbody tr th:only-of-type {\n",
       "        vertical-align: middle;\n",
       "    }\n",
       "\n",
       "    .dataframe tbody tr th {\n",
       "        vertical-align: top;\n",
       "    }\n",
       "\n",
       "    .dataframe thead th {\n",
       "        text-align: right;\n",
       "    }\n",
       "</style>\n",
       "<table border=\"1\" class=\"dataframe\">\n",
       "  <thead>\n",
       "    <tr style=\"text-align: right;\">\n",
       "      <th></th>\n",
       "      <th>type</th>\n",
       "      <th>volatile_acidity</th>\n",
       "      <th>citric_acid</th>\n",
       "      <th>pH</th>\n",
       "      <th>alcohol</th>\n",
       "      <th>quality</th>\n",
       "    </tr>\n",
       "  </thead>\n",
       "  <tbody>\n",
       "    <tr>\n",
       "      <th>16</th>\n",
       "      <td>white</td>\n",
       "      <td>0.235</td>\n",
       "      <td>0.27</td>\n",
       "      <td>3.07</td>\n",
       "      <td>9.400000</td>\n",
       "      <td>6</td>\n",
       "    </tr>\n",
       "    <tr>\n",
       "      <th>18</th>\n",
       "      <td>white</td>\n",
       "      <td>0.340</td>\n",
       "      <td>0.40</td>\n",
       "      <td>3.15</td>\n",
       "      <td>9.533333</td>\n",
       "      <td>6</td>\n",
       "    </tr>\n",
       "    <tr>\n",
       "      <th>42</th>\n",
       "      <td>white</td>\n",
       "      <td>0.230</td>\n",
       "      <td>0.39</td>\n",
       "      <td>2.90</td>\n",
       "      <td>9.000000</td>\n",
       "      <td>6</td>\n",
       "    </tr>\n",
       "    <tr>\n",
       "      <th>48</th>\n",
       "      <td>white</td>\n",
       "      <td>0.330</td>\n",
       "      <td>0.44</td>\n",
       "      <td>3.10</td>\n",
       "      <td>9.600000</td>\n",
       "      <td>5</td>\n",
       "    </tr>\n",
       "    <tr>\n",
       "      <th>49</th>\n",
       "      <td>white</td>\n",
       "      <td>0.360</td>\n",
       "      <td>0.35</td>\n",
       "      <td>3.05</td>\n",
       "      <td>11.100000</td>\n",
       "      <td>6</td>\n",
       "    </tr>\n",
       "    <tr>\n",
       "      <th>...</th>\n",
       "      <td>...</td>\n",
       "      <td>...</td>\n",
       "      <td>...</td>\n",
       "      <td>...</td>\n",
       "      <td>...</td>\n",
       "      <td>...</td>\n",
       "    </tr>\n",
       "    <tr>\n",
       "      <th>12989</th>\n",
       "      <td>red</td>\n",
       "      <td>0.700</td>\n",
       "      <td>0.00</td>\n",
       "      <td>3.51</td>\n",
       "      <td>9.400000</td>\n",
       "      <td>5</td>\n",
       "    </tr>\n",
       "    <tr>\n",
       "      <th>12990</th>\n",
       "      <td>red</td>\n",
       "      <td>0.280</td>\n",
       "      <td>0.56</td>\n",
       "      <td>3.16</td>\n",
       "      <td>9.800000</td>\n",
       "      <td>6</td>\n",
       "    </tr>\n",
       "    <tr>\n",
       "      <th>12991</th>\n",
       "      <td>red</td>\n",
       "      <td>0.760</td>\n",
       "      <td>0.04</td>\n",
       "      <td>3.26</td>\n",
       "      <td>9.800000</td>\n",
       "      <td>5</td>\n",
       "    </tr>\n",
       "    <tr>\n",
       "      <th>12992</th>\n",
       "      <td>red</td>\n",
       "      <td>0.880</td>\n",
       "      <td>0.00</td>\n",
       "      <td>3.20</td>\n",
       "      <td>9.800000</td>\n",
       "      <td>5</td>\n",
       "    </tr>\n",
       "    <tr>\n",
       "      <th>12993</th>\n",
       "      <td>red</td>\n",
       "      <td>0.700</td>\n",
       "      <td>0.00</td>\n",
       "      <td>3.51</td>\n",
       "      <td>9.400000</td>\n",
       "      <td>5</td>\n",
       "    </tr>\n",
       "  </tbody>\n",
       "</table>\n",
       "<p>7698 rows × 6 columns</p>\n",
       "</div>"
      ],
      "text/plain": [
       "        type  volatile_acidity  citric_acid    pH    alcohol  quality\n",
       "16     white             0.235         0.27  3.07   9.400000        6\n",
       "18     white             0.340         0.40  3.15   9.533333        6\n",
       "42     white             0.230         0.39  2.90   9.000000        6\n",
       "48     white             0.330         0.44  3.10   9.600000        5\n",
       "49     white             0.360         0.35  3.05  11.100000        6\n",
       "...      ...               ...          ...   ...        ...      ...\n",
       "12989    red             0.700         0.00  3.51   9.400000        5\n",
       "12990    red             0.280         0.56  3.16   9.800000        6\n",
       "12991    red             0.760         0.04  3.26   9.800000        5\n",
       "12992    red             0.880         0.00  3.20   9.800000        5\n",
       "12993    red             0.700         0.00  3.51   9.400000        5\n",
       "\n",
       "[7698 rows x 6 columns]"
      ]
     },
     "execution_count": 9,
     "metadata": {},
     "output_type": "execute_result"
    }
   ],
   "source": [
    "data_frame[data_frame.duplicated()]"
   ]
  },
  {
   "cell_type": "markdown",
   "metadata": {},
   "source": [
    "### Droping duplicates"
   ]
  },
  {
   "cell_type": "code",
   "execution_count": 10,
   "metadata": {},
   "outputs": [],
   "source": [
    "data_frame = data_frame.drop_duplicates()"
   ]
  },
  {
   "cell_type": "code",
   "execution_count": 11,
   "metadata": {
    "scrolled": false
   },
   "outputs": [
    {
     "data": {
      "text/html": [
       "<div>\n",
       "<style scoped>\n",
       "    .dataframe tbody tr th:only-of-type {\n",
       "        vertical-align: middle;\n",
       "    }\n",
       "\n",
       "    .dataframe tbody tr th {\n",
       "        vertical-align: top;\n",
       "    }\n",
       "\n",
       "    .dataframe thead th {\n",
       "        text-align: right;\n",
       "    }\n",
       "</style>\n",
       "<table border=\"1\" class=\"dataframe\">\n",
       "  <thead>\n",
       "    <tr style=\"text-align: right;\">\n",
       "      <th></th>\n",
       "      <th>type</th>\n",
       "      <th>volatile_acidity</th>\n",
       "      <th>citric_acid</th>\n",
       "      <th>pH</th>\n",
       "      <th>alcohol</th>\n",
       "      <th>quality</th>\n",
       "    </tr>\n",
       "  </thead>\n",
       "  <tbody>\n",
       "    <tr>\n",
       "      <th>0</th>\n",
       "      <td>white</td>\n",
       "      <td>0.210</td>\n",
       "      <td>0.38</td>\n",
       "      <td>3.26</td>\n",
       "      <td>11.8</td>\n",
       "      <td>6</td>\n",
       "    </tr>\n",
       "    <tr>\n",
       "      <th>1</th>\n",
       "      <td>white</td>\n",
       "      <td>0.290</td>\n",
       "      <td>0.30</td>\n",
       "      <td>3.34</td>\n",
       "      <td>12.8</td>\n",
       "      <td>7</td>\n",
       "    </tr>\n",
       "    <tr>\n",
       "      <th>2</th>\n",
       "      <td>white</td>\n",
       "      <td>0.240</td>\n",
       "      <td>0.19</td>\n",
       "      <td>2.99</td>\n",
       "      <td>9.4</td>\n",
       "      <td>6</td>\n",
       "    </tr>\n",
       "    <tr>\n",
       "      <th>3</th>\n",
       "      <td>white</td>\n",
       "      <td>0.320</td>\n",
       "      <td>0.36</td>\n",
       "      <td>3.15</td>\n",
       "      <td>9.6</td>\n",
       "      <td>5</td>\n",
       "    </tr>\n",
       "    <tr>\n",
       "      <th>4</th>\n",
       "      <td>white</td>\n",
       "      <td>0.210</td>\n",
       "      <td>0.29</td>\n",
       "      <td>3.27</td>\n",
       "      <td>11.2</td>\n",
       "      <td>6</td>\n",
       "    </tr>\n",
       "    <tr>\n",
       "      <th>...</th>\n",
       "      <td>...</td>\n",
       "      <td>...</td>\n",
       "      <td>...</td>\n",
       "      <td>...</td>\n",
       "      <td>...</td>\n",
       "      <td>...</td>\n",
       "    </tr>\n",
       "    <tr>\n",
       "      <th>11393</th>\n",
       "      <td>red</td>\n",
       "      <td>0.880</td>\n",
       "      <td>0.00</td>\n",
       "      <td>3.20</td>\n",
       "      <td>9.8</td>\n",
       "      <td>5</td>\n",
       "    </tr>\n",
       "    <tr>\n",
       "      <th>11405</th>\n",
       "      <td>red</td>\n",
       "      <td>NaN</td>\n",
       "      <td>0.33</td>\n",
       "      <td>3.27</td>\n",
       "      <td>12.8</td>\n",
       "      <td>6</td>\n",
       "    </tr>\n",
       "    <tr>\n",
       "      <th>11462</th>\n",
       "      <td>red</td>\n",
       "      <td>0.705</td>\n",
       "      <td>0.10</td>\n",
       "      <td>NaN</td>\n",
       "      <td>10.2</td>\n",
       "      <td>5</td>\n",
       "    </tr>\n",
       "    <tr>\n",
       "      <th>11463</th>\n",
       "      <td>red</td>\n",
       "      <td>0.440</td>\n",
       "      <td>0.09</td>\n",
       "      <td>NaN</td>\n",
       "      <td>11.3</td>\n",
       "      <td>6</td>\n",
       "    </tr>\n",
       "    <tr>\n",
       "      <th>11571</th>\n",
       "      <td>red</td>\n",
       "      <td>0.540</td>\n",
       "      <td>NaN</td>\n",
       "      <td>3.39</td>\n",
       "      <td>11.4</td>\n",
       "      <td>6</td>\n",
       "    </tr>\n",
       "  </tbody>\n",
       "</table>\n",
       "<p>5296 rows × 6 columns</p>\n",
       "</div>"
      ],
      "text/plain": [
       "        type  volatile_acidity  citric_acid    pH  alcohol  quality\n",
       "0      white             0.210         0.38  3.26     11.8        6\n",
       "1      white             0.290         0.30  3.34     12.8        7\n",
       "2      white             0.240         0.19  2.99      9.4        6\n",
       "3      white             0.320         0.36  3.15      9.6        5\n",
       "4      white             0.210         0.29  3.27     11.2        6\n",
       "...      ...               ...          ...   ...      ...      ...\n",
       "11393    red             0.880         0.00  3.20      9.8        5\n",
       "11405    red               NaN         0.33  3.27     12.8        6\n",
       "11462    red             0.705         0.10   NaN     10.2        5\n",
       "11463    red             0.440         0.09   NaN     11.3        6\n",
       "11571    red             0.540          NaN  3.39     11.4        6\n",
       "\n",
       "[5296 rows x 6 columns]"
      ]
     },
     "execution_count": 11,
     "metadata": {},
     "output_type": "execute_result"
    }
   ],
   "source": [
    "data_frame"
   ]
  },
  {
   "cell_type": "markdown",
   "metadata": {},
   "source": [
    "# Handle null values"
   ]
  },
  {
   "cell_type": "code",
   "execution_count": 12,
   "metadata": {},
   "outputs": [
    {
     "data": {
      "text/plain": [
       "type                0\n",
       "volatile_acidity    8\n",
       "citric_acid         3\n",
       "pH                  9\n",
       "alcohol             0\n",
       "quality             0\n",
       "dtype: int64"
      ]
     },
     "execution_count": 12,
     "metadata": {},
     "output_type": "execute_result"
    }
   ],
   "source": [
    "data_frame.isnull().sum()"
   ]
  },
  {
   "cell_type": "markdown",
   "metadata": {},
   "source": [
    "### Filling null values with the fillna() function."
   ]
  },
  {
   "cell_type": "code",
   "execution_count": 13,
   "metadata": {},
   "outputs": [
    {
     "name": "stderr",
     "output_type": "stream",
     "text": [
      "C:\\Users\\natim\\AppData\\Local\\Packages\\PythonSoftwareFoundation.Python.3.7_qbz5n2kfra8p0\\LocalCache\\local-packages\\Python37\\site-packages\\pandas\\core\\frame.py:7511: SettingWithCopyWarning: \n",
      "A value is trying to be set on a copy of a slice from a DataFrame.\n",
      "Try using .loc[row_indexer,col_indexer] = value instead\n",
      "\n",
      "See the caveats in the documentation: https://pandas.pydata.org/pandas-docs/stable/user_guide/indexing.html#returning-a-view-versus-a-copy\n",
      "  self[col] = expressions.where(mask, this, that)\n"
     ]
    },
    {
     "data": {
      "text/html": [
       "<div>\n",
       "<style scoped>\n",
       "    .dataframe tbody tr th:only-of-type {\n",
       "        vertical-align: middle;\n",
       "    }\n",
       "\n",
       "    .dataframe tbody tr th {\n",
       "        vertical-align: top;\n",
       "    }\n",
       "\n",
       "    .dataframe thead th {\n",
       "        text-align: right;\n",
       "    }\n",
       "</style>\n",
       "<table border=\"1\" class=\"dataframe\">\n",
       "  <thead>\n",
       "    <tr style=\"text-align: right;\">\n",
       "      <th></th>\n",
       "      <th>type</th>\n",
       "      <th>volatile_acidity</th>\n",
       "      <th>citric_acid</th>\n",
       "      <th>pH</th>\n",
       "      <th>alcohol</th>\n",
       "      <th>quality</th>\n",
       "    </tr>\n",
       "  </thead>\n",
       "  <tbody>\n",
       "    <tr>\n",
       "      <th>0</th>\n",
       "      <td>white</td>\n",
       "      <td>0.21000</td>\n",
       "      <td>0.38000</td>\n",
       "      <td>3.260000</td>\n",
       "      <td>11.8</td>\n",
       "      <td>6</td>\n",
       "    </tr>\n",
       "    <tr>\n",
       "      <th>1</th>\n",
       "      <td>white</td>\n",
       "      <td>0.29000</td>\n",
       "      <td>0.30000</td>\n",
       "      <td>3.340000</td>\n",
       "      <td>12.8</td>\n",
       "      <td>7</td>\n",
       "    </tr>\n",
       "    <tr>\n",
       "      <th>2</th>\n",
       "      <td>white</td>\n",
       "      <td>0.24000</td>\n",
       "      <td>0.19000</td>\n",
       "      <td>2.990000</td>\n",
       "      <td>9.4</td>\n",
       "      <td>6</td>\n",
       "    </tr>\n",
       "    <tr>\n",
       "      <th>3</th>\n",
       "      <td>white</td>\n",
       "      <td>0.32000</td>\n",
       "      <td>0.36000</td>\n",
       "      <td>3.150000</td>\n",
       "      <td>9.6</td>\n",
       "      <td>5</td>\n",
       "    </tr>\n",
       "    <tr>\n",
       "      <th>4</th>\n",
       "      <td>white</td>\n",
       "      <td>0.21000</td>\n",
       "      <td>0.29000</td>\n",
       "      <td>3.270000</td>\n",
       "      <td>11.2</td>\n",
       "      <td>6</td>\n",
       "    </tr>\n",
       "    <tr>\n",
       "      <th>...</th>\n",
       "      <td>...</td>\n",
       "      <td>...</td>\n",
       "      <td>...</td>\n",
       "      <td>...</td>\n",
       "      <td>...</td>\n",
       "      <td>...</td>\n",
       "    </tr>\n",
       "    <tr>\n",
       "      <th>11393</th>\n",
       "      <td>red</td>\n",
       "      <td>0.88000</td>\n",
       "      <td>0.00000</td>\n",
       "      <td>3.200000</td>\n",
       "      <td>9.8</td>\n",
       "      <td>5</td>\n",
       "    </tr>\n",
       "    <tr>\n",
       "      <th>11405</th>\n",
       "      <td>red</td>\n",
       "      <td>0.34424</td>\n",
       "      <td>0.33000</td>\n",
       "      <td>3.270000</td>\n",
       "      <td>12.8</td>\n",
       "      <td>6</td>\n",
       "    </tr>\n",
       "    <tr>\n",
       "      <th>11462</th>\n",
       "      <td>red</td>\n",
       "      <td>0.70500</td>\n",
       "      <td>0.10000</td>\n",
       "      <td>3.224379</td>\n",
       "      <td>10.2</td>\n",
       "      <td>5</td>\n",
       "    </tr>\n",
       "    <tr>\n",
       "      <th>11463</th>\n",
       "      <td>red</td>\n",
       "      <td>0.44000</td>\n",
       "      <td>0.09000</td>\n",
       "      <td>3.224379</td>\n",
       "      <td>11.3</td>\n",
       "      <td>6</td>\n",
       "    </tr>\n",
       "    <tr>\n",
       "      <th>11571</th>\n",
       "      <td>red</td>\n",
       "      <td>0.54000</td>\n",
       "      <td>0.31864</td>\n",
       "      <td>3.390000</td>\n",
       "      <td>11.4</td>\n",
       "      <td>6</td>\n",
       "    </tr>\n",
       "  </tbody>\n",
       "</table>\n",
       "<p>5296 rows × 6 columns</p>\n",
       "</div>"
      ],
      "text/plain": [
       "        type  volatile_acidity  citric_acid        pH  alcohol  quality\n",
       "0      white           0.21000      0.38000  3.260000     11.8        6\n",
       "1      white           0.29000      0.30000  3.340000     12.8        7\n",
       "2      white           0.24000      0.19000  2.990000      9.4        6\n",
       "3      white           0.32000      0.36000  3.150000      9.6        5\n",
       "4      white           0.21000      0.29000  3.270000     11.2        6\n",
       "...      ...               ...          ...       ...      ...      ...\n",
       "11393    red           0.88000      0.00000  3.200000      9.8        5\n",
       "11405    red           0.34424      0.33000  3.270000     12.8        6\n",
       "11462    red           0.70500      0.10000  3.224379     10.2        5\n",
       "11463    red           0.44000      0.09000  3.224379     11.3        6\n",
       "11571    red           0.54000      0.31864  3.390000     11.4        6\n",
       "\n",
       "[5296 rows x 6 columns]"
      ]
     },
     "execution_count": 13,
     "metadata": {},
     "output_type": "execute_result"
    }
   ],
   "source": [
    "# using 'numeric_only=True' we handle only numerical variables value and ignore strings\n",
    "\n",
    "data_frame.update(data_frame.fillna(data_frame.mean(numeric_only=True)))\n",
    "data_frame"
   ]
  },
  {
   "cell_type": "code",
   "execution_count": 14,
   "metadata": {},
   "outputs": [
    {
     "data": {
      "text/plain": [
       "type                0\n",
       "volatile_acidity    0\n",
       "citric_acid         0\n",
       "pH                  0\n",
       "alcohol             0\n",
       "quality             0\n",
       "dtype: int64"
      ]
     },
     "execution_count": 14,
     "metadata": {},
     "output_type": "execute_result"
    }
   ],
   "source": [
    "data_frame.isnull().sum()"
   ]
  },
  {
   "cell_type": "markdown",
   "metadata": {},
   "source": [
    "# Visualization"
   ]
  },
  {
   "cell_type": "markdown",
   "metadata": {},
   "source": [
    "### Histogram "
   ]
  },
  {
   "cell_type": "code",
   "execution_count": 15,
   "metadata": {
    "scrolled": false
   },
   "outputs": [
    {
     "data": {
      "image/png": "[encoded data removed]",
      "text/plain": [
       "<Figure size 1440x1440 with 6 Axes>"
      ]
     },
     "metadata": {
      "needs_background": "light"
     },
     "output_type": "display_data"
    }
   ],
   "source": [
    "data_frame.hist(bins=100,figsize=(20,20))\n",
    "plot.show()"
   ]
  },
  {
   "cell_type": "markdown",
   "metadata": {},
   "source": [
    "### correlation between every two features\n",
    "### We have to find those features that are fully correlated to each other because relationship among them impacts the model accuracy."
   ]
  },
  {
   "cell_type": "code",
   "execution_count": 16,
   "metadata": {},
   "outputs": [
    {
     "data": {
      "image/png": "[encoded data removed]",
      "text/plain": [
       "<Figure size 1368x720 with 2 Axes>"
      ]
     },
     "metadata": {},
     "output_type": "display_data"
    }
   ],
   "source": [
    "plot.figure(figsize=[19,10],facecolor='white')\n",
    "seaborn.heatmap(data_frame.corr(),annot=True)\n",
    "plot.show()"
   ]
  },
  {
   "cell_type": "markdown",
   "metadata": {},
   "source": [
    "# We can see that there are no features that correlates and wont impact the model accuracy."
   ]
  },
  {
   "cell_type": "markdown",
   "metadata": {},
   "source": [
    "### Box Plotting to detect outliers."
   ]
  },
  {
   "cell_type": "code",
   "execution_count": 18,
   "metadata": {
    "scrolled": false
   },
   "outputs": [
    {
     "name": "stderr",
     "output_type": "stream",
     "text": [
      "C:\\Users\\natim\\AppData\\Local\\Packages\\PythonSoftwareFoundation.Python.3.7_qbz5n2kfra8p0\\LocalCache\\local-packages\\Python37\\site-packages\\seaborn\\_decorators.py:43: FutureWarning: Pass the following variable as a keyword arg: x. From version 0.12, the only valid positional argument will be `data`, and passing other arguments without an explicit keyword will result in an error or misinterpretation.\n",
      "  FutureWarning\n",
      "C:\\Users\\natim\\AppData\\Local\\Packages\\PythonSoftwareFoundation.Python.3.7_qbz5n2kfra8p0\\LocalCache\\local-packages\\Python37\\site-packages\\seaborn\\_decorators.py:43: FutureWarning: Pass the following variable as a keyword arg: x. From version 0.12, the only valid positional argument will be `data`, and passing other arguments without an explicit keyword will result in an error or misinterpretation.\n",
      "  FutureWarning\n",
      "C:\\Users\\natim\\AppData\\Local\\Packages\\PythonSoftwareFoundation.Python.3.7_qbz5n2kfra8p0\\LocalCache\\local-packages\\Python37\\site-packages\\seaborn\\_decorators.py:43: FutureWarning: Pass the following variable as a keyword arg: x. From version 0.12, the only valid positional argument will be `data`, and passing other arguments without an explicit keyword will result in an error or misinterpretation.\n",
      "  FutureWarning\n",
      "C:\\Users\\natim\\AppData\\Local\\Packages\\PythonSoftwareFoundation.Python.3.7_qbz5n2kfra8p0\\LocalCache\\local-packages\\Python37\\site-packages\\seaborn\\_decorators.py:43: FutureWarning: Pass the following variable as a keyword arg: x. From version 0.12, the only valid positional argument will be `data`, and passing other arguments without an explicit keyword will result in an error or misinterpretation.\n",
      "  FutureWarning\n"
     ]
    },
    {
     "data": {
      "text/plain": [
       "<AxesSubplot:title={'center':'alcohol'}, xlabel='alcohol'>"
      ]
     },
     "execution_count": 18,
     "metadata": {},
     "output_type": "execute_result"
    },
    {
     "data": {
      "image/png": "[encoded data removed]",
      "text/plain": [
       "<Figure size 1440x576 with 4 Axes>"
      ]
     },
     "metadata": {
      "needs_background": "light"
     },
     "output_type": "display_data"
    }
   ],
   "source": [
    "fig, (ax1,ax2,ax3,ax4) = plot.subplots(1,4, figsize=(20,8))\n",
    "\n",
    "ax1.set_title('volatile_acidity')\n",
    "seaborn.boxplot(data_frame['volatile_acidity'], ax=ax1)\n",
    "\n",
    "ax2.set_title('citric_acid')\n",
    "seaborn.boxplot(data_frame['citric_acid'], ax=ax2)\n",
    "\n",
    "ax3.set_title('pH')\n",
    "seaborn.boxplot(data_frame['pH'], ax=ax3)\n",
    "\n",
    "ax4.set_title('alcohol')\n",
    "seaborn.boxplot(data_frame['alcohol'], ax=ax4)"
   ]
  },
  {
   "cell_type": "markdown",
   "metadata": {},
   "source": [
    "### calculating"
   ]
  },
  {
   "cell_type": "code",
   "execution_count": 19,
   "metadata": {},
   "outputs": [
    {
     "name": "stdout",
     "output_type": "stream",
     "text": [
      "76\n",
      "0.85\n"
     ]
    }
   ],
   "source": [
    "z_score = (data_frame[\"volatile_acidity\"] - data_frame[\"volatile_acidity\"].mean()) / data_frame[\"volatile_acidity\"].std()\n",
    "\n",
    "outliers = abs(z_score) > 3\n",
    "vol_acd_min = min(data_frame.volatile_acidity[outliers])\n",
    "\n",
    "print(sum(outliers))\n",
    "print(vol_acd_min)"
   ]
  },
  {
   "cell_type": "code",
   "execution_count": 20,
   "metadata": {
    "scrolled": false
   },
   "outputs": [
    {
     "name": "stdout",
     "output_type": "stream",
     "text": [
      "26\n",
      "0.76\n"
     ]
    }
   ],
   "source": [
    "z_score = (data_frame[\"citric_acid\"] - data_frame[\"citric_acid\"].mean()) / data_frame[\"citric_acid\"].std()\n",
    "\n",
    "outliers = abs(z_score) > 3\n",
    "cit_acd_min = min(data_frame.citric_acid[outliers])\n",
    "\n",
    "print(sum(outliers))\n",
    "print(cit_acd_min)"
   ]
  },
  {
   "cell_type": "code",
   "execution_count": 21,
   "metadata": {
    "scrolled": false
   },
   "outputs": [
    {
     "name": "stdout",
     "output_type": "stream",
     "text": [
      "26\n",
      "3.39\n",
      "2.74\n"
     ]
    }
   ],
   "source": [
    "z_score = (data_frame[\"pH\"] - data_frame[\"pH\"].mean()) / data_frame[\"pH\"].std()\n",
    "\n",
    "pH_max = max(data_frame.pH[outliers])\n",
    "pH_min = min(data_frame.pH[outliers])\n",
    "\n",
    "print(sum(outliers))\n",
    "print(pH_max)\n",
    "print(pH_min)"
   ]
  },
  {
   "cell_type": "code",
   "execution_count": 22,
   "metadata": {},
   "outputs": [
    {
     "name": "stdout",
     "output_type": "stream",
     "text": [
      "2\n",
      "14.2\n"
     ]
    }
   ],
   "source": [
    "z_score = (data_frame[\"alcohol\"] - data_frame[\"alcohol\"].mean()) / data_frame[\"alcohol\"].std()\n",
    "\n",
    "outliers = abs(z_score) > 3\n",
    "alc_min = min(data_frame.alcohol[outliers])\n",
    "\n",
    "print(sum(outliers))\n",
    "print(alc_min)"
   ]
  },
  {
   "cell_type": "markdown",
   "metadata": {},
   "source": [
    "### Adressing ouliers:"
   ]
  },
  {
   "cell_type": "code",
   "execution_count": 23,
   "metadata": {
    "scrolled": false
   },
   "outputs": [
    {
     "name": "stderr",
     "output_type": "stream",
     "text": [
      "C:\\Users\\natim\\AppData\\Local\\Packages\\PythonSoftwareFoundation.Python.3.7_qbz5n2kfra8p0\\LocalCache\\local-packages\\Python37\\site-packages\\ipykernel_launcher.py:1: SettingWithCopyWarning: \n",
      "A value is trying to be set on a copy of a slice from a DataFrame\n",
      "\n",
      "See the caveats in the documentation: https://pandas.pydata.org/pandas-docs/stable/user_guide/indexing.html#returning-a-view-versus-a-copy\n",
      "  \"\"\"Entry point for launching an IPython kernel.\n",
      "C:\\Users\\natim\\AppData\\Local\\Packages\\PythonSoftwareFoundation.Python.3.7_qbz5n2kfra8p0\\LocalCache\\local-packages\\Python37\\site-packages\\pandas\\core\\generic.py:8870: SettingWithCopyWarning: \n",
      "A value is trying to be set on a copy of a slice from a DataFrame\n",
      "\n",
      "See the caveats in the documentation: https://pandas.pydata.org/pandas-docs/stable/user_guide/indexing.html#returning-a-view-versus-a-copy\n",
      "  return self._update_inplace(result)\n",
      "C:\\Users\\natim\\AppData\\Local\\Packages\\PythonSoftwareFoundation.Python.3.7_qbz5n2kfra8p0\\LocalCache\\local-packages\\Python37\\site-packages\\pandas\\core\\frame.py:5182: SettingWithCopyWarning: \n",
      "A value is trying to be set on a copy of a slice from a DataFrame\n",
      "\n",
      "See the caveats in the documentation: https://pandas.pydata.org/pandas-docs/stable/user_guide/indexing.html#returning-a-view-versus-a-copy\n",
      "  downcast=downcast,\n",
      "C:\\Users\\natim\\AppData\\Local\\Packages\\PythonSoftwareFoundation.Python.3.7_qbz5n2kfra8p0\\LocalCache\\local-packages\\Python37\\site-packages\\ipykernel_launcher.py:6: SettingWithCopyWarning: \n",
      "A value is trying to be set on a copy of a slice from a DataFrame\n",
      "\n",
      "See the caveats in the documentation: https://pandas.pydata.org/pandas-docs/stable/user_guide/indexing.html#returning-a-view-versus-a-copy\n",
      "  \n",
      "C:\\Users\\natim\\AppData\\Local\\Packages\\PythonSoftwareFoundation.Python.3.7_qbz5n2kfra8p0\\LocalCache\\local-packages\\Python37\\site-packages\\ipykernel_launcher.py:11: SettingWithCopyWarning: \n",
      "A value is trying to be set on a copy of a slice from a DataFrame\n",
      "\n",
      "See the caveats in the documentation: https://pandas.pydata.org/pandas-docs/stable/user_guide/indexing.html#returning-a-view-versus-a-copy\n",
      "  # This is added back by InteractiveShellApp.init_path()\n",
      "C:\\Users\\natim\\AppData\\Local\\Packages\\PythonSoftwareFoundation.Python.3.7_qbz5n2kfra8p0\\LocalCache\\local-packages\\Python37\\site-packages\\ipykernel_launcher.py:14: SettingWithCopyWarning: \n",
      "A value is trying to be set on a copy of a slice from a DataFrame\n",
      "\n",
      "See the caveats in the documentation: https://pandas.pydata.org/pandas-docs/stable/user_guide/indexing.html#returning-a-view-versus-a-copy\n",
      "  \n",
      "C:\\Users\\natim\\AppData\\Local\\Packages\\PythonSoftwareFoundation.Python.3.7_qbz5n2kfra8p0\\LocalCache\\local-packages\\Python37\\site-packages\\ipykernel_launcher.py:19: SettingWithCopyWarning: \n",
      "A value is trying to be set on a copy of a slice from a DataFrame\n",
      "\n",
      "See the caveats in the documentation: https://pandas.pydata.org/pandas-docs/stable/user_guide/indexing.html#returning-a-view-versus-a-copy\n"
     ]
    }
   ],
   "source": [
    "data_frame.volatile_acidity[data_frame.volatile_acidity > vol_acd_min] = numpy.nan\n",
    "data_frame.fillna(numpy.mean(data_frame['volatile_acidity']), inplace= True)\n",
    "\n",
    "\n",
    "\n",
    "data_frame.citric_acid[data_frame.citric_acid > cit_acd_min] = numpy.nan\n",
    "data_frame.fillna(numpy.mean(data_frame['citric_acid']), inplace= True)\n",
    "\n",
    "\n",
    "\n",
    "data_frame.pH[data_frame.pH > pH_max] = numpy.nan\n",
    "data_frame.fillna(numpy.mean(data_frame['pH']), inplace= True)\n",
    "\n",
    "data_frame.pH[data_frame.pH < pH_min] = numpy.nan\n",
    "data_frame.fillna(numpy.mean(data_frame['pH']), inplace= True)\n",
    "\n",
    "\n",
    "\n",
    "data_frame.alcohol[data_frame.alcohol > alc_min] = numpy.nan\n",
    "data_frame.fillna(numpy.mean(data_frame['alcohol']), inplace= True)"
   ]
  },
  {
   "cell_type": "markdown",
   "metadata": {},
   "source": [
    "### Box plotting again to see if outliers dropped."
   ]
  },
  {
   "cell_type": "code",
   "execution_count": 24,
   "metadata": {
    "scrolled": false
   },
   "outputs": [
    {
     "name": "stderr",
     "output_type": "stream",
     "text": [
      "C:\\Users\\natim\\AppData\\Local\\Packages\\PythonSoftwareFoundation.Python.3.7_qbz5n2kfra8p0\\LocalCache\\local-packages\\Python37\\site-packages\\seaborn\\_decorators.py:43: FutureWarning: Pass the following variable as a keyword arg: x. From version 0.12, the only valid positional argument will be `data`, and passing other arguments without an explicit keyword will result in an error or misinterpretation.\n",
      "  FutureWarning\n",
      "C:\\Users\\natim\\AppData\\Local\\Packages\\PythonSoftwareFoundation.Python.3.7_qbz5n2kfra8p0\\LocalCache\\local-packages\\Python37\\site-packages\\seaborn\\_decorators.py:43: FutureWarning: Pass the following variable as a keyword arg: x. From version 0.12, the only valid positional argument will be `data`, and passing other arguments without an explicit keyword will result in an error or misinterpretation.\n",
      "  FutureWarning\n",
      "C:\\Users\\natim\\AppData\\Local\\Packages\\PythonSoftwareFoundation.Python.3.7_qbz5n2kfra8p0\\LocalCache\\local-packages\\Python37\\site-packages\\seaborn\\_decorators.py:43: FutureWarning: Pass the following variable as a keyword arg: x. From version 0.12, the only valid positional argument will be `data`, and passing other arguments without an explicit keyword will result in an error or misinterpretation.\n",
      "  FutureWarning\n",
      "C:\\Users\\natim\\AppData\\Local\\Packages\\PythonSoftwareFoundation.Python.3.7_qbz5n2kfra8p0\\LocalCache\\local-packages\\Python37\\site-packages\\seaborn\\_decorators.py:43: FutureWarning: Pass the following variable as a keyword arg: x. From version 0.12, the only valid positional argument will be `data`, and passing other arguments without an explicit keyword will result in an error or misinterpretation.\n",
      "  FutureWarning\n"
     ]
    },
    {
     "data": {
      "text/plain": [
       "<AxesSubplot:title={'center':'alcohol'}, xlabel='alcohol'>"
      ]
     },
     "execution_count": 24,
     "metadata": {},
     "output_type": "execute_result"
    },
    {
     "data": {
      "image/png": "[encoded data removed]",
      "text/plain": [
       "<Figure size 1440x576 with 4 Axes>"
      ]
     },
     "metadata": {
      "needs_background": "light"
     },
     "output_type": "display_data"
    }
   ],
   "source": [
    "fig, (ax1,ax2,ax3,ax4) = plot.subplots(1,4, figsize=(20,8))\n",
    "\n",
    "ax1.set_title('volatile_acidity')\n",
    "seaborn.boxplot(data_frame['volatile_acidity'], ax=ax1)\n",
    "\n",
    "ax2.set_title('citric_acid')\n",
    "seaborn.boxplot(data_frame['citric_acid'], ax=ax2)\n",
    "\n",
    "ax3.set_title('pH')\n",
    "seaborn.boxplot(data_frame['pH'], ax=ax3)\n",
    "\n",
    "ax4.set_title('alcohol')\n",
    "seaborn.boxplot(data_frame['alcohol'], ax=ax4)"
   ]
  },
  {
   "cell_type": "markdown",
   "metadata": {},
   "source": [
    "# Exploring & Data Analysis\n",
    "\n",
    "\n",
    "### Questions we would like to answer:\n",
    "\n",
    "1. Is there a difference between red wine and white wine regarding wine quality?\n",
    "2. What is the effect of the various acidity parameters on wine quality?\n",
    "3. Dose alcohol level impacts on wine quality?\n",
    "4. What is the effect of the pH index on wine quality?"
   ]
  },
  {
   "cell_type": "code",
   "execution_count": 25,
   "metadata": {},
   "outputs": [
    {
     "data": {
      "image/png": "[encoded data removed]",
      "text/plain": [
       "<Figure size 720x360 with 1 Axes>"
      ]
     },
     "metadata": {
      "needs_background": "light"
     },
     "output_type": "display_data"
    }
   ],
   "source": [
    "# boxplot to show majority of of quality score for both red and white wine\n",
    "\n",
    "plot.figure(figsize=(10,5))\n",
    "seaborn.boxplot(x='type', y='quality', data=data_frame)\n",
    "\n",
    "plot.show()"
   ]
  },
  {
   "cell_type": "markdown",
   "metadata": {},
   "source": [
    "### A1. There is no significant difference between red and white wine regarding quality, and thus \"type\" will not become one of selected features"
   ]
  },
  {
   "cell_type": "code",
   "execution_count": 45,
   "metadata": {},
   "outputs": [
    {
     "data": {
      "text/html": [
       "<div>\n",
       "<style scoped>\n",
       "    .dataframe tbody tr th:only-of-type {\n",
       "        vertical-align: middle;\n",
       "    }\n",
       "\n",
       "    .dataframe tbody tr th {\n",
       "        vertical-align: top;\n",
       "    }\n",
       "\n",
       "    .dataframe thead th {\n",
       "        text-align: right;\n",
       "    }\n",
       "</style>\n",
       "<table border=\"1\" class=\"dataframe\">\n",
       "  <thead>\n",
       "    <tr style=\"text-align: right;\">\n",
       "      <th></th>\n",
       "      <th>volatile_acidity</th>\n",
       "      <th>citric_acid</th>\n",
       "      <th>pH</th>\n",
       "      <th>alcohol</th>\n",
       "      <th>quality</th>\n",
       "      <th>type_white</th>\n",
       "    </tr>\n",
       "  </thead>\n",
       "  <tbody>\n",
       "    <tr>\n",
       "      <th>0</th>\n",
       "      <td>0.210000</td>\n",
       "      <td>0.38000</td>\n",
       "      <td>3.260000</td>\n",
       "      <td>11.8</td>\n",
       "      <td>6</td>\n",
       "      <td>1</td>\n",
       "    </tr>\n",
       "    <tr>\n",
       "      <th>1</th>\n",
       "      <td>0.290000</td>\n",
       "      <td>0.30000</td>\n",
       "      <td>3.340000</td>\n",
       "      <td>12.8</td>\n",
       "      <td>7</td>\n",
       "      <td>1</td>\n",
       "    </tr>\n",
       "    <tr>\n",
       "      <th>2</th>\n",
       "      <td>0.240000</td>\n",
       "      <td>0.19000</td>\n",
       "      <td>2.990000</td>\n",
       "      <td>9.4</td>\n",
       "      <td>6</td>\n",
       "      <td>1</td>\n",
       "    </tr>\n",
       "    <tr>\n",
       "      <th>3</th>\n",
       "      <td>0.320000</td>\n",
       "      <td>0.36000</td>\n",
       "      <td>3.150000</td>\n",
       "      <td>9.6</td>\n",
       "      <td>5</td>\n",
       "      <td>1</td>\n",
       "    </tr>\n",
       "    <tr>\n",
       "      <th>4</th>\n",
       "      <td>0.210000</td>\n",
       "      <td>0.29000</td>\n",
       "      <td>3.270000</td>\n",
       "      <td>11.2</td>\n",
       "      <td>6</td>\n",
       "      <td>1</td>\n",
       "    </tr>\n",
       "    <tr>\n",
       "      <th>...</th>\n",
       "      <td>...</td>\n",
       "      <td>...</td>\n",
       "      <td>...</td>\n",
       "      <td>...</td>\n",
       "      <td>...</td>\n",
       "      <td>...</td>\n",
       "    </tr>\n",
       "    <tr>\n",
       "      <th>11393</th>\n",
       "      <td>0.335406</td>\n",
       "      <td>0.00000</td>\n",
       "      <td>3.200000</td>\n",
       "      <td>9.8</td>\n",
       "      <td>5</td>\n",
       "      <td>0</td>\n",
       "    </tr>\n",
       "    <tr>\n",
       "      <th>11405</th>\n",
       "      <td>0.344240</td>\n",
       "      <td>0.33000</td>\n",
       "      <td>3.270000</td>\n",
       "      <td>12.8</td>\n",
       "      <td>6</td>\n",
       "      <td>0</td>\n",
       "    </tr>\n",
       "    <tr>\n",
       "      <th>11462</th>\n",
       "      <td>0.705000</td>\n",
       "      <td>0.10000</td>\n",
       "      <td>3.224379</td>\n",
       "      <td>10.2</td>\n",
       "      <td>5</td>\n",
       "      <td>0</td>\n",
       "    </tr>\n",
       "    <tr>\n",
       "      <th>11463</th>\n",
       "      <td>0.440000</td>\n",
       "      <td>0.09000</td>\n",
       "      <td>3.224379</td>\n",
       "      <td>11.3</td>\n",
       "      <td>6</td>\n",
       "      <td>0</td>\n",
       "    </tr>\n",
       "    <tr>\n",
       "      <th>11571</th>\n",
       "      <td>0.540000</td>\n",
       "      <td>0.31864</td>\n",
       "      <td>3.390000</td>\n",
       "      <td>11.4</td>\n",
       "      <td>6</td>\n",
       "      <td>0</td>\n",
       "    </tr>\n",
       "  </tbody>\n",
       "</table>\n",
       "<p>5296 rows × 6 columns</p>\n",
       "</div>"
      ],
      "text/plain": [
       "       volatile_acidity  citric_acid        pH  alcohol  quality  type_white\n",
       "0              0.210000      0.38000  3.260000     11.8        6           1\n",
       "1              0.290000      0.30000  3.340000     12.8        7           1\n",
       "2              0.240000      0.19000  2.990000      9.4        6           1\n",
       "3              0.320000      0.36000  3.150000      9.6        5           1\n",
       "4              0.210000      0.29000  3.270000     11.2        6           1\n",
       "...                 ...          ...       ...      ...      ...         ...\n",
       "11393          0.335406      0.00000  3.200000      9.8        5           0\n",
       "11405          0.344240      0.33000  3.270000     12.8        6           0\n",
       "11462          0.705000      0.10000  3.224379     10.2        5           0\n",
       "11463          0.440000      0.09000  3.224379     11.3        6           0\n",
       "11571          0.540000      0.31864  3.390000     11.4        6           0\n",
       "\n",
       "[5296 rows x 6 columns]"
      ]
     },
     "execution_count": 45,
     "metadata": {},
     "output_type": "execute_result"
    }
   ],
   "source": [
    "\n",
    "\n",
    "# Get dummies is used for handling categorical columns, \n",
    "# in our dataset ‘Type’ column feature contains two types 'Red' and 'White',\n",
    "# where Red consider as 0 and white considers as 1\n",
    "\n",
    "data_frame = pandas.get_dummies(data_frame,drop_first=True)\n",
    "\n",
    "# display new dataframe\n",
    "data_frame"
   ]
  },
  {
   "cell_type": "markdown",
   "metadata": {},
   "source": [
    "# Normalization"
   ]
  },
  {
   "cell_type": "code",
   "execution_count": 27,
   "metadata": {},
   "outputs": [
    {
     "name": "stdout",
     "output_type": "stream",
     "text": [
      "[[0.16883117 0.5        0.8        0.61290323 0.5        1.        ]\n",
      " [0.27272727 0.39473684 0.92307692 0.77419355 0.66666667 1.        ]\n",
      " [0.20779221 0.25       0.38461538 0.22580645 0.5        1.        ]\n",
      " ...\n",
      " [0.81168831 0.13157895 0.74519795 0.35483871 0.33333333 0.        ]\n",
      " [0.46753247 0.11842105 0.74519795 0.53225806 0.5        0.        ]\n",
      " [0.5974026  0.41926278 1.         0.5483871  0.5        0.        ]]\n"
     ]
    }
   ],
   "source": [
    "from sklearn.preprocessing import MinMaxScaler\n",
    "# creating normalization object \n",
    "norm = MinMaxScaler()\n",
    "# fit data\n",
    "norm_fit = norm.fit(data_frame)\n",
    "df_scaled = norm_fit.transform(data_frame)\n",
    "#new_xtest = norm_fit.transform(x_test)\n",
    "# display values\n",
    "print(df_scaled)"
   ]
  },
  {
   "cell_type": "code",
   "execution_count": 28,
   "metadata": {},
   "outputs": [
    {
     "name": "stdout",
     "output_type": "stream",
     "text": [
      "[[0.16883117 0.5        0.8        0.61290323 0.5        1.        ]\n",
      " [0.27272727 0.39473684 0.92307692 0.77419355 0.66666667 1.        ]\n",
      " [0.20779221 0.25       0.38461538 0.22580645 0.5        1.        ]\n",
      " ...\n",
      " [0.81168831 0.13157895 0.74519795 0.35483871 0.33333333 0.        ]\n",
      " [0.46753247 0.11842105 0.74519795 0.53225806 0.5        0.        ]\n",
      " [0.5974026  0.41926278 1.         0.5483871  0.5        0.        ]]\n"
     ]
    }
   ],
   "source": [
    "from sklearn.preprocessing import MinMaxScaler\n",
    "\n",
    "nrm = MinMaxScaler()\n",
    "\n",
    "# fit the scale\n",
    "norm_fit = nrm.fit(data_frame)\n",
    "\n",
    "# transformation of training data\n",
    "scaled_df = norm_fit.transform(data_frame)\n",
    "print(scaled_df)"
   ]
  },
  {
   "cell_type": "code",
   "execution_count": 29,
   "metadata": {},
   "outputs": [],
   "source": [
    "df_new = pandas.DataFrame(scaled_df,columns=['volatile_acidity','citric_acid','pH','alcohol','quality','type_white'])"
   ]
  },
  {
   "cell_type": "code",
   "execution_count": 30,
   "metadata": {},
   "outputs": [
    {
     "data": {
      "text/html": [
       "<div>\n",
       "<style scoped>\n",
       "    .dataframe tbody tr th:only-of-type {\n",
       "        vertical-align: middle;\n",
       "    }\n",
       "\n",
       "    .dataframe tbody tr th {\n",
       "        vertical-align: top;\n",
       "    }\n",
       "\n",
       "    .dataframe thead th {\n",
       "        text-align: right;\n",
       "    }\n",
       "</style>\n",
       "<table border=\"1\" class=\"dataframe\">\n",
       "  <thead>\n",
       "    <tr style=\"text-align: right;\">\n",
       "      <th></th>\n",
       "      <th>volatile_acidity</th>\n",
       "      <th>citric_acid</th>\n",
       "      <th>pH</th>\n",
       "      <th>alcohol</th>\n",
       "      <th>quality</th>\n",
       "      <th>type_white</th>\n",
       "    </tr>\n",
       "  </thead>\n",
       "  <tbody>\n",
       "    <tr>\n",
       "      <th>0</th>\n",
       "      <td>0.168831</td>\n",
       "      <td>0.500000</td>\n",
       "      <td>0.800000</td>\n",
       "      <td>0.612903</td>\n",
       "      <td>0.500000</td>\n",
       "      <td>1.0</td>\n",
       "    </tr>\n",
       "    <tr>\n",
       "      <th>1</th>\n",
       "      <td>0.272727</td>\n",
       "      <td>0.394737</td>\n",
       "      <td>0.923077</td>\n",
       "      <td>0.774194</td>\n",
       "      <td>0.666667</td>\n",
       "      <td>1.0</td>\n",
       "    </tr>\n",
       "    <tr>\n",
       "      <th>2</th>\n",
       "      <td>0.207792</td>\n",
       "      <td>0.250000</td>\n",
       "      <td>0.384615</td>\n",
       "      <td>0.225806</td>\n",
       "      <td>0.500000</td>\n",
       "      <td>1.0</td>\n",
       "    </tr>\n",
       "    <tr>\n",
       "      <th>3</th>\n",
       "      <td>0.311688</td>\n",
       "      <td>0.473684</td>\n",
       "      <td>0.630769</td>\n",
       "      <td>0.258065</td>\n",
       "      <td>0.333333</td>\n",
       "      <td>1.0</td>\n",
       "    </tr>\n",
       "    <tr>\n",
       "      <th>4</th>\n",
       "      <td>0.168831</td>\n",
       "      <td>0.381579</td>\n",
       "      <td>0.815385</td>\n",
       "      <td>0.516129</td>\n",
       "      <td>0.500000</td>\n",
       "      <td>1.0</td>\n",
       "    </tr>\n",
       "    <tr>\n",
       "      <th>...</th>\n",
       "      <td>...</td>\n",
       "      <td>...</td>\n",
       "      <td>...</td>\n",
       "      <td>...</td>\n",
       "      <td>...</td>\n",
       "      <td>...</td>\n",
       "    </tr>\n",
       "    <tr>\n",
       "      <th>5291</th>\n",
       "      <td>0.331696</td>\n",
       "      <td>0.000000</td>\n",
       "      <td>0.707692</td>\n",
       "      <td>0.290323</td>\n",
       "      <td>0.333333</td>\n",
       "      <td>0.0</td>\n",
       "    </tr>\n",
       "    <tr>\n",
       "      <th>5292</th>\n",
       "      <td>0.343169</td>\n",
       "      <td>0.434211</td>\n",
       "      <td>0.815385</td>\n",
       "      <td>0.774194</td>\n",
       "      <td>0.500000</td>\n",
       "      <td>0.0</td>\n",
       "    </tr>\n",
       "    <tr>\n",
       "      <th>5293</th>\n",
       "      <td>0.811688</td>\n",
       "      <td>0.131579</td>\n",
       "      <td>0.745198</td>\n",
       "      <td>0.354839</td>\n",
       "      <td>0.333333</td>\n",
       "      <td>0.0</td>\n",
       "    </tr>\n",
       "    <tr>\n",
       "      <th>5294</th>\n",
       "      <td>0.467532</td>\n",
       "      <td>0.118421</td>\n",
       "      <td>0.745198</td>\n",
       "      <td>0.532258</td>\n",
       "      <td>0.500000</td>\n",
       "      <td>0.0</td>\n",
       "    </tr>\n",
       "    <tr>\n",
       "      <th>5295</th>\n",
       "      <td>0.597403</td>\n",
       "      <td>0.419263</td>\n",
       "      <td>1.000000</td>\n",
       "      <td>0.548387</td>\n",
       "      <td>0.500000</td>\n",
       "      <td>0.0</td>\n",
       "    </tr>\n",
       "  </tbody>\n",
       "</table>\n",
       "<p>5296 rows × 6 columns</p>\n",
       "</div>"
      ],
      "text/plain": [
       "      volatile_acidity  citric_acid        pH   alcohol   quality  type_white\n",
       "0             0.168831     0.500000  0.800000  0.612903  0.500000         1.0\n",
       "1             0.272727     0.394737  0.923077  0.774194  0.666667         1.0\n",
       "2             0.207792     0.250000  0.384615  0.225806  0.500000         1.0\n",
       "3             0.311688     0.473684  0.630769  0.258065  0.333333         1.0\n",
       "4             0.168831     0.381579  0.815385  0.516129  0.500000         1.0\n",
       "...                ...          ...       ...       ...       ...         ...\n",
       "5291          0.331696     0.000000  0.707692  0.290323  0.333333         0.0\n",
       "5292          0.343169     0.434211  0.815385  0.774194  0.500000         0.0\n",
       "5293          0.811688     0.131579  0.745198  0.354839  0.333333         0.0\n",
       "5294          0.467532     0.118421  0.745198  0.532258  0.500000         0.0\n",
       "5295          0.597403     0.419263  1.000000  0.548387  0.500000         0.0\n",
       "\n",
       "[5296 rows x 6 columns]"
      ]
     },
     "execution_count": 30,
     "metadata": {},
     "output_type": "execute_result"
    }
   ],
   "source": [
    "df_new"
   ]
  },
  {
   "cell_type": "code",
   "execution_count": 47,
   "metadata": {
    "scrolled": false
   },
   "outputs": [
    {
     "data": {
      "text/plain": [
       "<AxesSubplot:xlabel='quality'>"
      ]
     },
     "execution_count": 47,
     "metadata": {},
     "output_type": "execute_result"
    },
    {
     "data": {
      "image/png": "[encoded data removed]",
      "text/plain": [
       "<Figure size 432x288 with 1 Axes>"
      ]
     },
     "metadata": {
      "needs_background": "light"
     },
     "output_type": "display_data"
    }
   ],
   "source": [
    "# plot to show difference between various acidity\n",
    "\n",
    "\n",
    "df_plot = df_new.groupby(['quality']).mean()[['volatile_acidity','citric_acid']]\n",
    "df_plot.plot()"
   ]
  },
  {
   "cell_type": "markdown",
   "metadata": {},
   "source": [
    "## A2. A small amount of volatile acid and a high amount of citric acid are required in order for the quality of the wine to improve"
   ]
  },
  {
   "cell_type": "code",
   "execution_count": 48,
   "metadata": {},
   "outputs": [
    {
     "data": {
      "text/plain": [
       "<AxesSubplot:xlabel='quality'>"
      ]
     },
     "execution_count": 48,
     "metadata": {},
     "output_type": "execute_result"
    },
    {
     "data": {
      "image/png": "[encoded data removed]",
      "text/plain": [
       "<Figure size 432x288 with 1 Axes>"
      ]
     },
     "metadata": {
      "needs_background": "light"
     },
     "output_type": "display_data"
    }
   ],
   "source": [
    "# plot to show alcohol levels\n",
    "\n",
    "\n",
    "df_plot = df_new.groupby(['quality']).mean()[['alcohol']]\n",
    "df_plot.plot()"
   ]
  },
  {
   "cell_type": "markdown",
   "metadata": {},
   "source": [
    "## A3. We can see that when alcohol levels increases, the wine quality increases as well."
   ]
  },
  {
   "cell_type": "code",
   "execution_count": 49,
   "metadata": {},
   "outputs": [
    {
     "data": {
      "text/plain": [
       "<AxesSubplot:xlabel='quality'>"
      ]
     },
     "execution_count": 49,
     "metadata": {},
     "output_type": "execute_result"
    },
    {
     "data": {
      "image/png": "[encoded data removed]",
      "text/plain": [
       "<Figure size 432x288 with 1 Axes>"
      ]
     },
     "metadata": {
      "needs_background": "light"
     },
     "output_type": "display_data"
    }
   ],
   "source": [
    "# plot to show pH and volatile acidity relationship\n",
    "\n",
    "\n",
    "df_plot = df_new.groupby(['quality']).mean()[['pH','volatile_acidity']]\n",
    "df_plot.plot()"
   ]
  },
  {
   "cell_type": "markdown",
   "metadata": {},
   "source": [
    "## A4. The rising pH index can be seen to indicate a decrease in volatile acidity which raises the quality of the wine"
   ]
  },
  {
   "cell_type": "code",
   "execution_count": null,
   "metadata": {},
   "outputs": [],
   "source": [
    "data_frame['best quality'] = [1 if quality >=7 else 0 for quality in data_frame.quality]\n",
    "print(data_frame)"
   ]
  },
  {
   "cell_type": "markdown",
   "metadata": {},
   "source": [
    "# Splitting dataset"
   ]
  },
  {
   "cell_type": "code",
   "execution_count": null,
   "metadata": {
    "scrolled": false
   },
   "outputs": [],
   "source": [
    "# independent variables\n",
    "X = data_frame.drop(['quality','best quality'],axis=1)\n",
    "# dependent variable\n",
    "y = data_frame['best quality']\n",
    "# # (alredy imported) --> train_test_split()\n",
    "x_train,x_test,y_train,y_test = train_test_split(X, y, test_size=0.2, random_state=40)\n",
    "X"
   ]
  },
  {
   "cell_type": "markdown",
   "metadata": {},
   "source": [
    "# Normalization"
   ]
  },
  {
   "cell_type": "code",
   "execution_count": null,
   "metadata": {},
   "outputs": [],
   "source": [
    "# creating scale object \n",
    "norm = MinMaxScaler()\n",
    "# fit the new scalde data\n",
    "norm_fit = norm.fit(x_train)\n",
    "# transformation of training data\n",
    "new_x_train = norm_fit.transform(x_train)\n",
    "# transformation of testing data\n",
    "new_x_test = norm_fit.transform(x_test)\n",
    "# display values\n",
    "print(new_x_train)"
   ]
  },
  {
   "cell_type": "markdown",
   "metadata": {},
   "source": [
    "# Applying Model\n",
    "\n",
    "This is the last step where we apply any suitable model which will give more accuracy, here we will use RandomForestClassifier because it was the only ML model that gives the 88% accuracy which was considered as the best accuracy."
   ]
  },
  {
   "cell_type": "markdown",
   "metadata": {},
   "source": [
    "# RandomForestClassifier:-"
   ]
  },
  {
   "cell_type": "code",
   "execution_count": null,
   "metadata": {},
   "outputs": [],
   "source": [
    "# importing modules\n",
    "from sklearn.ensemble import RandomForestClassifier\n",
    "from sklearn.metrics import classification_report\n",
    "# for error checking\n",
    "from sklearn.metrics import mean_squared_error\n",
    "#creating RandomForestClassifier constructor\n",
    "rnd = RandomForestClassifier()\n",
    "# fit data\n",
    "fit_rnd = rnd.fit(new_x_train,y_train)\n",
    "# predicting score\n",
    "rnd_score = rnd.score(new_x_test,y_test)\n",
    "print('score of Random Forest Classifier model is : ',rnd_score)\n",
    "# display error rate\n",
    "print('calculating the error')\n",
    "# calculating mean squared error\n",
    "rnd_MSE = mean_squared_error(y_test, y_predict)\n",
    "# calculating root mean squared error\n",
    "rnd_RMSE = numpy.sqrt(rnd_MSE)\n",
    "# display MSE\n",
    "print('mean squared error is : ',rnd_MSE)\n",
    "# display RMSE\n",
    "print('root mean squared error is : ',rnd_RMSE)\n",
    "print(classification_report(x_predict,y_test))"
   ]
  },
  {
   "cell_type": "markdown",
   "metadata": {},
   "source": [
    "Now, we are at the end of our article, we can differentiate the predicted values and actual value."
   ]
  },
  {
   "cell_type": "code",
   "execution_count": null,
   "metadata": {},
   "outputs": [],
   "source": [
    "x_predict = list(rnd.predict(x_test))\n",
    "predicted_data_frame = {'predicted_values': x_predict, 'original_values': y_test}\n",
    "#creating new dataframe\n",
    "pandas.DataFrame(predicted_data_frame).head(20)"
   ]
  },
  {
   "cell_type": "markdown",
   "metadata": {},
   "source": [
    "# Saving Model\n",
    "At last, we save our machine learning model:"
   ]
  },
  {
   "cell_type": "code",
   "execution_count": null,
   "metadata": {},
   "outputs": [],
   "source": [
    "import pickle\n",
    "file = 'wine_quality_save'\n",
    "#save file\n",
    "save = pickle.dump(rnd,open(file,'wb'))"
   ]
  }
 ],
 "metadata": {
  "kernelspec": {
   "display_name": "Python 3 (ipykernel)",
   "language": "python",
   "name": "python3"
  },
  "language_info": {
   "codemirror_mode": {
    "name": "ipython",
    "version": 3
   },
   "file_extension": ".py",
   "mimetype": "text/x-python",
   "name": "python",
   "nbconvert_exporter": "python",
   "pygments_lexer": "ipython3",
   "version": "3.7.9"
  }
 },
 "nbformat": 4,
 "nbformat_minor": 4
}
